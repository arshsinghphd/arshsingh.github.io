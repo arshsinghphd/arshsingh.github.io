{
 "cells": [
  {
   "cell_type": "markdown",
   "id": "0526b2f5",
   "metadata": {},
   "source": [
    "### This file is associated with my research project testing the hypothesis that prescriptive power of non-physician is associated with more opioid prescriptions. \n",
    "\n",
    "(c) Arsh Singh, Sep 2024"
   ]
  },
  {
   "cell_type": "markdown",
   "id": "a956b560",
   "metadata": {},
   "source": [
    "## Passage of law decreasing MD oversight of MD is strongly correlated to the opioid overdose death via both hydrocodone and oxycodone prescriptions. \n",
    "\n",
    "## This law explains ~20% of variation in the opioid-overdose deaths in the data, via prescriped opioids (R^2) = 0.2097) \n",
    "\n",
    "## Together all the laws explain ~25% variation in the opioid-overdose deaths in the data, via  prescriped opioids. (R^2) = 0.239) "
   ]
  },
  {
   "cell_type": "markdown",
   "id": "107f14aa",
   "metadata": {},
   "source": [
    "## First Stage \n",
    "\n",
    "### Show that laws expanding prescriptive power or NPs and PA, reducing oversight by MD results in increase of prescriptions."
   ]
  },
  {
   "cell_type": "code",
   "execution_count": 1,
   "id": "bee3531d",
   "metadata": {},
   "outputs": [
    {
     "name": "stdout",
     "output_type": "stream",
     "text": [
      "D:\\arcos_all_washpost\n"
     ]
    }
   ],
   "source": [
    "cd \"D:\\arcos_all_washpost\""
   ]
  },
  {
   "cell_type": "code",
   "execution_count": 2,
   "id": "bfca09ed",
   "metadata": {},
   "outputs": [],
   "source": [
    "import pandas as pd"
   ]
  },
  {
   "cell_type": "code",
   "execution_count": 3,
   "id": "31b1aab4",
   "metadata": {},
   "outputs": [],
   "source": [
    "panel = pd.read_csv(\"panel_annual_death.csv\")"
   ]
  },
  {
   "cell_type": "markdown",
   "id": "1ec4ddcf",
   "metadata": {},
   "source": [
    "### Restrict the data to the states where laws changed in the time period 2006-2011 (because we have data for 2005-2012)"
   ]
  },
  {
   "cell_type": "code",
   "execution_count": 4,
   "id": "9838ecbd",
   "metadata": {},
   "outputs": [],
   "source": [
    "# 16 states\n",
    "states = ['AZ','CA','CO','DC','HI','ID','IL','LA', 'MI','NY','KY','RI','PA','VA','WA', 'WY']\n",
    "df = panel[panel['STATE'].isin(states)]"
   ]
  },
  {
   "cell_type": "code",
   "execution_count": 5,
   "id": "5e21d5cf",
   "metadata": {},
   "outputs": [
    {
     "data": {
      "text/html": [
       "<div>\n",
       "<style scoped>\n",
       "    .dataframe tbody tr th:only-of-type {\n",
       "        vertical-align: middle;\n",
       "    }\n",
       "\n",
       "    .dataframe tbody tr th {\n",
       "        vertical-align: top;\n",
       "    }\n",
       "\n",
       "    .dataframe thead th {\n",
       "        text-align: right;\n",
       "    }\n",
       "</style>\n",
       "<table border=\"1\" class=\"dataframe\">\n",
       "  <thead>\n",
       "    <tr style=\"text-align: right;\">\n",
       "      <th></th>\n",
       "      <th>STATE</th>\n",
       "      <th>year</th>\n",
       "      <th>pop</th>\n",
       "      <th>np</th>\n",
       "      <th>np_no_md</th>\n",
       "      <th>pa</th>\n",
       "      <th>any</th>\n",
       "      <th>hydrocodone</th>\n",
       "      <th>oxycodone</th>\n",
       "      <th>both</th>\n",
       "      <th>hydrocodone_per_cap</th>\n",
       "      <th>oxycodone_per_cap</th>\n",
       "      <th>both_per_cap</th>\n",
       "      <th>Opioid Overdose Death Rate (Age-Adjusted)</th>\n",
       "    </tr>\n",
       "  </thead>\n",
       "  <tbody>\n",
       "    <tr>\n",
       "      <th>18</th>\n",
       "      <td>AZ</td>\n",
       "      <td>2006</td>\n",
       "      <td>6029141</td>\n",
       "      <td>1</td>\n",
       "      <td>0</td>\n",
       "      <td>1</td>\n",
       "      <td>1</td>\n",
       "      <td>162798062.5</td>\n",
       "      <td>1.540183e+08</td>\n",
       "      <td>3.168164e+08</td>\n",
       "      <td>27.001867</td>\n",
       "      <td>25.545652</td>\n",
       "      <td>52.547519</td>\n",
       "      <td>7.8</td>\n",
       "    </tr>\n",
       "    <tr>\n",
       "      <th>19</th>\n",
       "      <td>AZ</td>\n",
       "      <td>2007</td>\n",
       "      <td>6167681</td>\n",
       "      <td>1</td>\n",
       "      <td>1</td>\n",
       "      <td>1</td>\n",
       "      <td>1</td>\n",
       "      <td>216702237.5</td>\n",
       "      <td>2.175931e+08</td>\n",
       "      <td>4.342953e+08</td>\n",
       "      <td>35.135124</td>\n",
       "      <td>35.279561</td>\n",
       "      <td>70.414685</td>\n",
       "      <td>7.7</td>\n",
       "    </tr>\n",
       "    <tr>\n",
       "      <th>20</th>\n",
       "      <td>AZ</td>\n",
       "      <td>2008</td>\n",
       "      <td>6280362</td>\n",
       "      <td>1</td>\n",
       "      <td>1</td>\n",
       "      <td>1</td>\n",
       "      <td>1</td>\n",
       "      <td>261476720.0</td>\n",
       "      <td>2.517012e+08</td>\n",
       "      <td>5.131780e+08</td>\n",
       "      <td>41.634020</td>\n",
       "      <td>40.077504</td>\n",
       "      <td>81.711524</td>\n",
       "      <td>8.1</td>\n",
       "    </tr>\n",
       "    <tr>\n",
       "      <th>21</th>\n",
       "      <td>AZ</td>\n",
       "      <td>2009</td>\n",
       "      <td>6343154</td>\n",
       "      <td>1</td>\n",
       "      <td>1</td>\n",
       "      <td>1</td>\n",
       "      <td>1</td>\n",
       "      <td>317378370.0</td>\n",
       "      <td>3.026168e+08</td>\n",
       "      <td>6.199951e+08</td>\n",
       "      <td>50.034789</td>\n",
       "      <td>47.707617</td>\n",
       "      <td>97.742406</td>\n",
       "      <td>9.8</td>\n",
       "    </tr>\n",
       "    <tr>\n",
       "      <th>22</th>\n",
       "      <td>AZ</td>\n",
       "      <td>2010</td>\n",
       "      <td>6407172</td>\n",
       "      <td>1</td>\n",
       "      <td>1</td>\n",
       "      <td>1</td>\n",
       "      <td>1</td>\n",
       "      <td>334893667.5</td>\n",
       "      <td>3.579851e+08</td>\n",
       "      <td>6.928788e+08</td>\n",
       "      <td>52.268562</td>\n",
       "      <td>55.872565</td>\n",
       "      <td>108.141127</td>\n",
       "      <td>9.9</td>\n",
       "    </tr>\n",
       "  </tbody>\n",
       "</table>\n",
       "</div>"
      ],
      "text/plain": [
       "   STATE  year      pop  np  np_no_md  pa  any  hydrocodone     oxycodone  \\\n",
       "18    AZ  2006  6029141   1         0   1    1  162798062.5  1.540183e+08   \n",
       "19    AZ  2007  6167681   1         1   1    1  216702237.5  2.175931e+08   \n",
       "20    AZ  2008  6280362   1         1   1    1  261476720.0  2.517012e+08   \n",
       "21    AZ  2009  6343154   1         1   1    1  317378370.0  3.026168e+08   \n",
       "22    AZ  2010  6407172   1         1   1    1  334893667.5  3.579851e+08   \n",
       "\n",
       "            both  hydrocodone_per_cap  oxycodone_per_cap  both_per_cap  \\\n",
       "18  3.168164e+08            27.001867          25.545652     52.547519   \n",
       "19  4.342953e+08            35.135124          35.279561     70.414685   \n",
       "20  5.131780e+08            41.634020          40.077504     81.711524   \n",
       "21  6.199951e+08            50.034789          47.707617     97.742406   \n",
       "22  6.928788e+08            52.268562          55.872565    108.141127   \n",
       "\n",
       "    Opioid Overdose Death Rate (Age-Adjusted)  \n",
       "18                                        7.8  \n",
       "19                                        7.7  \n",
       "20                                        8.1  \n",
       "21                                        9.8  \n",
       "22                                        9.9  "
      ]
     },
     "execution_count": 5,
     "metadata": {},
     "output_type": "execute_result"
    }
   ],
   "source": [
    "df.head()"
   ]
  },
  {
   "cell_type": "markdown",
   "id": "bca31b41",
   "metadata": {},
   "source": [
    "### Set-up panel OLS regression"
   ]
  },
  {
   "cell_type": "code",
   "execution_count": 6,
   "id": "205b0e4f",
   "metadata": {},
   "outputs": [],
   "source": [
    "import statsmodels.api as sm\n",
    "from linearmodels import PanelOLS\n",
    "from linearmodels import RandomEffects"
   ]
  },
  {
   "cell_type": "code",
   "execution_count": 7,
   "id": "10f27b5d",
   "metadata": {},
   "outputs": [],
   "source": [
    "df = df.set_index(['STATE', 'year'])"
   ]
  },
  {
   "cell_type": "code",
   "execution_count": 8,
   "id": "2912049c",
   "metadata": {},
   "outputs": [],
   "source": [
    "panel = panel.set_index(['STATE', 'year'])"
   ]
  },
  {
   "cell_type": "markdown",
   "id": "dd37a34a",
   "metadata": {},
   "source": [
    "### Regression 1 \n",
    "\n",
    "Prescription of opioid (both_per_cap) ~ any laws (any)"
   ]
  },
  {
   "cell_type": "code",
   "execution_count": 9,
   "id": "2385c845",
   "metadata": {},
   "outputs": [
    {
     "name": "stdout",
     "output_type": "stream",
     "text": [
      "                          PanelOLS Estimation Summary                           \n",
      "================================================================================\n",
      "Dep. Variable:           both_per_cap   R-squared:                        0.2143\n",
      "Estimator:                   PanelOLS   R-squared (Between):              0.0056\n",
      "No. Observations:                  73   R-squared (Within):               0.2143\n",
      "Date:                Fri, Sep 13 2024   R-squared (Overall):              0.0833\n",
      "Time:                        12:57:45   Log-likelihood                   -267.22\n",
      "Cov. Estimator:            Unadjusted                                           \n",
      "                                        F-statistic:                      16.093\n",
      "Entities:                          13   P-value                           0.0002\n",
      "Avg Obs:                       5.6154   Distribution:                    F(1,59)\n",
      "Min Obs:                       1.0000                                           \n",
      "Max Obs:                       6.0000   F-statistic (robust):             16.093\n",
      "                                        P-value                           0.0002\n",
      "Time periods:                       6   Distribution:                    F(1,59)\n",
      "Avg Obs:                       12.167                                           \n",
      "Min Obs:                       12.000                                           \n",
      "Max Obs:                       13.000                                           \n",
      "                                                                                \n",
      "                             Parameter Estimates                              \n",
      "==============================================================================\n",
      "            Parameter  Std. Err.     T-stat    P-value    Lower CI    Upper CI\n",
      "------------------------------------------------------------------------------\n",
      "const          45.009     2.9242     15.392     0.0000      39.158      50.860\n",
      "any            14.400     3.5896     4.0116     0.0002      7.2173      21.583\n",
      "==============================================================================\n",
      "\n",
      "F-test for Poolability: 23.610\n",
      "P-value: 0.0000\n",
      "Distribution: F(12,59)\n",
      "\n",
      "Included effects: Entity\n"
     ]
    }
   ],
   "source": [
    "exog_vars=['any']\n",
    "exog = sm.tools.tools.add_constant(df[exog_vars])\n",
    "endog = df['both_per_cap']\n",
    "# fixed effects model\n",
    "model_fe = PanelOLS(endog, exog, entity_effects = True) \n",
    "fe_res = model_fe.fit()\n",
    "print(fe_res)"
   ]
  },
  {
   "cell_type": "markdown",
   "id": "e59e8364",
   "metadata": {},
   "source": [
    "### Regression 2\n",
    "prescriptions of opioid (both_per_cap) ~ allowing np to prescribe (np), allowing pa to prescribe (pa), reducing MD oversight of np (np_no_md)"
   ]
  },
  {
   "cell_type": "code",
   "execution_count": 10,
   "id": "d05e77a2",
   "metadata": {},
   "outputs": [
    {
     "name": "stdout",
     "output_type": "stream",
     "text": [
      "                          PanelOLS Estimation Summary                           \n",
      "================================================================================\n",
      "Dep. Variable:           both_per_cap   R-squared:                        0.2789\n",
      "Estimator:                   PanelOLS   R-squared (Between):             -0.0529\n",
      "No. Observations:                  73   R-squared (Within):               0.2789\n",
      "Date:                Fri, Sep 13 2024   R-squared (Overall):              0.0593\n",
      "Time:                        12:57:45   Log-likelihood                   -264.09\n",
      "Cov. Estimator:            Unadjusted                                           \n",
      "                                        F-statistic:                      7.3479\n",
      "Entities:                          13   P-value                           0.0003\n",
      "Avg Obs:                       5.6154   Distribution:                    F(3,57)\n",
      "Min Obs:                       1.0000                                           \n",
      "Max Obs:                       6.0000   F-statistic (robust):             7.3479\n",
      "                                        P-value                           0.0003\n",
      "Time periods:                       6   Distribution:                    F(3,57)\n",
      "Avg Obs:                       12.167                                           \n",
      "Min Obs:                       12.000                                           \n",
      "Max Obs:                       13.000                                           \n",
      "                                                                                \n",
      "                             Parameter Estimates                              \n",
      "==============================================================================\n",
      "            Parameter  Std. Err.     T-stat    P-value    Lower CI    Upper CI\n",
      "------------------------------------------------------------------------------\n",
      "const          41.078     3.6619     11.218     0.0000      33.746      48.411\n",
      "pa             9.6178     4.7395     2.0293     0.0471      0.1271      19.108\n",
      "np             10.578     4.8205     2.1944     0.0323      0.9251      20.231\n",
      "np_no_md       20.190     6.4514     3.1295     0.0028      7.2710      33.109\n",
      "==============================================================================\n",
      "\n",
      "F-test for Poolability: 22.685\n",
      "P-value: 0.0000\n",
      "Distribution: F(12,57)\n",
      "\n",
      "Included effects: Entity\n"
     ]
    }
   ],
   "source": [
    "exog_vars=['pa', 'np', 'np_no_md']\n",
    "exog = sm.tools.tools.add_constant(df[exog_vars])\n",
    "endog = df['both_per_cap']\n",
    "# fixed effects model\n",
    "model_fe = PanelOLS(endog, exog, entity_effects = True) \n",
    "fe_res = model_fe.fit() \n",
    "print(fe_res)"
   ]
  },
  {
   "cell_type": "markdown",
   "id": "b13787de",
   "metadata": {},
   "source": [
    "### Regression 2a\n",
    "hydrocodone_per_cap ~ pa, np, np_no_md"
   ]
  },
  {
   "cell_type": "code",
   "execution_count": 11,
   "id": "02236507",
   "metadata": {},
   "outputs": [
    {
     "name": "stdout",
     "output_type": "stream",
     "text": [
      "                           PanelOLS Estimation Summary                           \n",
      "=================================================================================\n",
      "Dep. Variable:     hydrocodone_per_cap   R-squared:                        0.1850\n",
      "Estimator:                    PanelOLS   R-squared (Between):             -0.0626\n",
      "No. Observations:                   73   R-squared (Within):               0.1850\n",
      "Date:                 Fri, Sep 13 2024   R-squared (Overall):             -0.0378\n",
      "Time:                         12:57:46   Log-likelihood                   -209.95\n",
      "Cov. Estimator:             Unadjusted                                           \n",
      "                                         F-statistic:                      4.3120\n",
      "Entities:                           13   P-value                           0.0083\n",
      "Avg Obs:                        5.6154   Distribution:                    F(3,57)\n",
      "Min Obs:                        1.0000                                           \n",
      "Max Obs:                        6.0000   F-statistic (robust):             4.3120\n",
      "                                         P-value                           0.0083\n",
      "Time periods:                        6   Distribution:                    F(3,57)\n",
      "Avg Obs:                        12.167                                           \n",
      "Min Obs:                        12.000                                           \n",
      "Max Obs:                        13.000                                           \n",
      "                                                                                 \n",
      "                             Parameter Estimates                              \n",
      "==============================================================================\n",
      "            Parameter  Std. Err.     T-stat    P-value    Lower CI    Upper CI\n",
      "------------------------------------------------------------------------------\n",
      "const          23.329     1.7443     13.375     0.0000      19.836      26.822\n",
      "pa             3.1202     2.2575     1.3821     0.1723     -1.4004      7.6409\n",
      "np             4.1371     2.2961     1.8017     0.0769     -0.4609      8.7350\n",
      "np_no_md       7.4718     3.0730     2.4315     0.0182      1.3183      13.625\n",
      "==============================================================================\n",
      "\n",
      "F-test for Poolability: 54.667\n",
      "P-value: 0.0000\n",
      "Distribution: F(12,57)\n",
      "\n",
      "Included effects: Entity\n"
     ]
    }
   ],
   "source": [
    "exog_vars=['pa', 'np', 'np_no_md']\n",
    "exog = sm.tools.tools.add_constant(df[exog_vars])\n",
    "endog = df['hydrocodone_per_cap']\n",
    "# fixed effects model\n",
    "model_fe = PanelOLS(endog, exog, entity_effects = True) \n",
    "fe_res = model_fe.fit() \n",
    "print(fe_res)"
   ]
  },
  {
   "cell_type": "markdown",
   "id": "054267c6",
   "metadata": {},
   "source": [
    "### Regression 2b:\n",
    "\n",
    "oxycodone_per_cap ~ pa, np, np_no_md"
   ]
  },
  {
   "cell_type": "code",
   "execution_count": 12,
   "id": "325a326b",
   "metadata": {},
   "outputs": [
    {
     "name": "stdout",
     "output_type": "stream",
     "text": [
      "                          PanelOLS Estimation Summary                           \n",
      "================================================================================\n",
      "Dep. Variable:      oxycodone_per_cap   R-squared:                        0.3106\n",
      "Estimator:                   PanelOLS   R-squared (Between):              0.0792\n",
      "No. Observations:                  73   R-squared (Within):               0.3106\n",
      "Date:                Fri, Sep 13 2024   R-squared (Overall):              0.2956\n",
      "Time:                        12:57:46   Log-likelihood                   -225.48\n",
      "Cov. Estimator:            Unadjusted                                           \n",
      "                                        F-statistic:                      8.5593\n",
      "Entities:                          13   P-value                           0.0001\n",
      "Avg Obs:                       5.6154   Distribution:                    F(3,57)\n",
      "Min Obs:                       1.0000                                           \n",
      "Max Obs:                       6.0000   F-statistic (robust):             8.5593\n",
      "                                        P-value                           0.0001\n",
      "Time periods:                       6   Distribution:                    F(3,57)\n",
      "Avg Obs:                       12.167                                           \n",
      "Min Obs:                       12.000                                           \n",
      "Max Obs:                       13.000                                           \n",
      "                                                                                \n",
      "                             Parameter Estimates                              \n",
      "==============================================================================\n",
      "            Parameter  Std. Err.     T-stat    P-value    Lower CI    Upper CI\n",
      "------------------------------------------------------------------------------\n",
      "const          17.749     2.1576     8.2263     0.0000      13.429      22.070\n",
      "pa             6.4976     2.7925     2.3267     0.0236      0.9056      12.090\n",
      "np             6.4409     2.8403     2.2677     0.0272      0.7533      12.129\n",
      "np_no_md       12.718     3.8012     3.3457     0.0015      5.1061      20.330\n",
      "==============================================================================\n",
      "\n",
      "F-test for Poolability: 9.8319\n",
      "P-value: 0.0000\n",
      "Distribution: F(12,57)\n",
      "\n",
      "Included effects: Entity\n"
     ]
    }
   ],
   "source": [
    "exog_vars=['pa', 'np', 'np_no_md']\n",
    "exog = sm.tools.tools.add_constant(df[exog_vars])\n",
    "endog = df['oxycodone_per_cap']\n",
    "# fixed effects model\n",
    "model_fe = PanelOLS(endog, exog, entity_effects = True) \n",
    "fe_res = model_fe.fit() \n",
    "print(fe_res)"
   ]
  },
  {
   "cell_type": "markdown",
   "id": "e996fdf8",
   "metadata": {},
   "source": [
    "## Second Stage - \n",
    "### Show that these laws contribute to opioid overdose related deaths\n",
    "\n",
    "### Generally, 2 SLS (IV passage of law using presciptions)\n",
    "\n",
    "stage 1: Prescriptions (both_per_cap) ~ law\n",
    "\n",
    "predict both_per_cap_hat based on the above model\n",
    "\n",
    "laws explain some fraction of increase in prescription. \n",
    "\n",
    "stage 2: opioid overdose deaths ~ prescriptions_hat\n",
    "\n",
    "regression shows the fraction of deaths explained by the channel law -> prescription -> death"
   ]
  },
  {
   "cell_type": "code",
   "execution_count": 13,
   "id": "b32a4f82",
   "metadata": {},
   "outputs": [],
   "source": [
    "import statsmodels.api as sm\n",
    "from linearmodels import IV2SLS as iv2sls"
   ]
  },
  {
   "cell_type": "markdown",
   "id": "234c777b",
   "metadata": {},
   "source": [
    "### Regression 3-8\n",
    "\n",
    "deaths ~ (both_per_cap ~ any)\n",
    "\n",
    "deaths ~ (hydrocodone_per_cap ~ any)\n",
    "\n",
    "deaths ~ (oxycodone_per_cap ~ any)\n",
    "\n",
    "deaths ~ (both_per_cap ~ np, pa, np_no_md)\n",
    "\n",
    "deaths ~ (hydrocodone_per_cap ~ np, pa, np_no_md)\n",
    "\n",
    "deaths ~ (oxycodone_per_cap ~ np, pa, np_no_md)"
   ]
  },
  {
   "cell_type": "code",
   "execution_count": 14,
   "id": "16c9a136",
   "metadata": {},
   "outputs": [
    {
     "name": "stdout",
     "output_type": "stream",
     "text": [
      "                                      IV-2SLS Estimation Summary                                     \n",
      "=====================================================================================================\n",
      "Dep. Variable:     Opioid Overdose Death Rate (Age-Adjusted)   R-squared:                      0.0713\n",
      "Estimator:                                           IV-2SLS   Adj. R-squared:                 0.0448\n",
      "No. Observations:                                         73   F-statistic:                    8.6520\n",
      "Date:                                       Fri, Sep 13 2024   P-value (F-stat)                0.0132\n",
      "Time:                                               12:57:46   Distribution:                  chi2(2)\n",
      "Cov. Estimator:                                       robust                                         \n",
      "                                                                                                     \n",
      "                              Parameter Estimates                               \n",
      "================================================================================\n",
      "              Parameter  Std. Err.     T-stat    P-value    Lower CI    Upper CI\n",
      "--------------------------------------------------------------------------------\n",
      "const            5.1227     0.5280     9.7025     0.0000      4.0879      6.1575\n",
      "any              1.1735     0.4077     2.8785     0.0040      0.3745      1.9725\n",
      "both_per_cap     0.0108     0.0098     1.1017     0.2706     -0.0084      0.0301\n",
      "================================================================================\n",
      "\n",
      "Endogenous: both_per_cap\n",
      "Instruments: both_per_cap\n",
      "Robust Covariance (Heteroskedastic)\n",
      "Debiased: False\n"
     ]
    }
   ],
   "source": [
    "dependent = df['Opioid Overdose Death Rate (Age-Adjusted)']\n",
    "exog_vars=['any']\n",
    "exog = sm.tools.tools.add_constant(df[exog_vars])\n",
    "endog = df['both_per_cap']\n",
    "instruments = df['both_per_cap']\n",
    "# fixed effects model\n",
    "model_iv = iv2sls(dependent, exog, endog, instruments=instruments) \n",
    "iv_res = model_iv.fit() \n",
    "print(iv_res)"
   ]
  },
  {
   "cell_type": "code",
   "execution_count": 15,
   "id": "c312f07f",
   "metadata": {},
   "outputs": [
    {
     "name": "stdout",
     "output_type": "stream",
     "text": [
      "                                      IV-2SLS Estimation Summary                                     \n",
      "=====================================================================================================\n",
      "Dep. Variable:     Opioid Overdose Death Rate (Age-Adjusted)   R-squared:                      0.0609\n",
      "Estimator:                                           IV-2SLS   Adj. R-squared:                 0.0341\n",
      "No. Observations:                                         73   F-statistic:                    9.9527\n",
      "Date:                                       Fri, Sep 13 2024   P-value (F-stat)                0.0069\n",
      "Time:                                               12:57:46   Distribution:                  chi2(2)\n",
      "Cov. Estimator:                                       robust                                         \n",
      "                                                                                                     \n",
      "                                  Parameter Estimates                                  \n",
      "=======================================================================================\n",
      "                     Parameter  Std. Err.     T-stat    P-value    Lower CI    Upper CI\n",
      "---------------------------------------------------------------------------------------\n",
      "const                   5.5544     0.5199     10.683     0.0000      4.5354      6.5734\n",
      "any                     1.3315     0.4306     3.0920     0.0020      0.4875      2.1755\n",
      "hydrocodone_per_cap     0.0019     0.0177     0.1061     0.9155     -0.0328      0.0365\n",
      "=======================================================================================\n",
      "\n",
      "Endogenous: hydrocodone_per_cap\n",
      "Instruments: hydrocodone_per_cap\n",
      "Robust Covariance (Heteroskedastic)\n",
      "Debiased: False\n"
     ]
    }
   ],
   "source": [
    "dependent = df['Opioid Overdose Death Rate (Age-Adjusted)']\n",
    "exog_vars=['any']\n",
    "exog = sm.tools.tools.add_constant(df[exog_vars])\n",
    "endog = df['hydrocodone_per_cap']\n",
    "instruments = df['hydrocodone_per_cap']\n",
    "# fixed effects model\n",
    "model_iv = iv2sls(dependent, exog, endog, instruments=instruments) \n",
    "iv_res = model_iv.fit() \n",
    "print(iv_res)"
   ]
  },
  {
   "cell_type": "code",
   "execution_count": 16,
   "id": "760e6292",
   "metadata": {},
   "outputs": [
    {
     "name": "stdout",
     "output_type": "stream",
     "text": [
      "                                      IV-2SLS Estimation Summary                                     \n",
      "=====================================================================================================\n",
      "Dep. Variable:     Opioid Overdose Death Rate (Age-Adjusted)   R-squared:                      0.0971\n",
      "Estimator:                                           IV-2SLS   Adj. R-squared:                 0.0713\n",
      "No. Observations:                                         73   F-statistic:                    13.427\n",
      "Date:                                       Fri, Sep 13 2024   P-value (F-stat)                0.0012\n",
      "Time:                                               12:57:46   Distribution:                  chi2(2)\n",
      "Cov. Estimator:                                       robust                                         \n",
      "                                                                                                     \n",
      "                                 Parameter Estimates                                 \n",
      "=====================================================================================\n",
      "                   Parameter  Std. Err.     T-stat    P-value    Lower CI    Upper CI\n",
      "-------------------------------------------------------------------------------------\n",
      "const                 4.7904     0.4719     10.152     0.0000      3.8656      5.7153\n",
      "any                   0.9460     0.4872     1.9415     0.0522     -0.0090      1.9010\n",
      "oxycodone_per_cap     0.0408     0.0162     2.5166     0.0118      0.0090      0.0726\n",
      "=====================================================================================\n",
      "\n",
      "Endogenous: oxycodone_per_cap\n",
      "Instruments: oxycodone_per_cap\n",
      "Robust Covariance (Heteroskedastic)\n",
      "Debiased: False\n"
     ]
    }
   ],
   "source": [
    "dependent = df['Opioid Overdose Death Rate (Age-Adjusted)']\n",
    "exog_vars=['any']\n",
    "exog = sm.tools.tools.add_constant(df[exog_vars])\n",
    "endog = df['oxycodone_per_cap']\n",
    "instruments = df['oxycodone_per_cap']\n",
    "# fixed effects model\n",
    "model_iv = iv2sls(dependent, exog, endog, instruments=instruments) \n",
    "iv_res = model_iv.fit() \n",
    "print(iv_res)"
   ]
  },
  {
   "cell_type": "code",
   "execution_count": 17,
   "id": "b680aee5",
   "metadata": {},
   "outputs": [
    {
     "name": "stdout",
     "output_type": "stream",
     "text": [
      "                                      IV-2SLS Estimation Summary                                     \n",
      "=====================================================================================================\n",
      "Dep. Variable:     Opioid Overdose Death Rate (Age-Adjusted)   R-squared:                      0.2393\n",
      "Estimator:                                           IV-2SLS   Adj. R-squared:                 0.1946\n",
      "No. Observations:                                         73   F-statistic:                    105.96\n",
      "Date:                                       Fri, Sep 13 2024   P-value (F-stat)                0.0000\n",
      "Time:                                               12:57:46   Distribution:                  chi2(4)\n",
      "Cov. Estimator:                                       robust                                         \n",
      "                                                                                                     \n",
      "                              Parameter Estimates                               \n",
      "================================================================================\n",
      "              Parameter  Std. Err.     T-stat    P-value    Lower CI    Upper CI\n",
      "--------------------------------------------------------------------------------\n",
      "const            5.8655     0.4744     12.363     0.0000      4.9356      6.7953\n",
      "np               0.9355     0.5588     1.6742     0.0941     -0.1597      2.0307\n",
      "pa              -0.2597     0.5761    -0.4508     0.6521     -1.3887      0.8694\n",
      "np_no_md         2.8723     0.5606     5.1232     0.0000      1.7734      3.9711\n",
      "both_per_cap    -0.0029     0.0093    -0.3145     0.7532     -0.0212      0.0153\n",
      "================================================================================\n",
      "\n",
      "Endogenous: both_per_cap\n",
      "Instruments: both_per_cap\n",
      "Robust Covariance (Heteroskedastic)\n",
      "Debiased: False\n"
     ]
    }
   ],
   "source": [
    "dependent = df['Opioid Overdose Death Rate (Age-Adjusted)']\n",
    "exog_vars=['np', 'pa', 'np_no_md']\n",
    "exog = sm.tools.tools.add_constant(df[exog_vars])\n",
    "endog = df['both_per_cap']\n",
    "instruments = df['both_per_cap']\n",
    "# fixed effects model\n",
    "model_iv = iv2sls(dependent, exog, endog, instruments=instruments) \n",
    "iv_res = model_iv.fit() \n",
    "print(iv_res)"
   ]
  },
  {
   "cell_type": "code",
   "execution_count": 18,
   "id": "0ff6b2b4",
   "metadata": {},
   "outputs": [
    {
     "name": "stdout",
     "output_type": "stream",
     "text": [
      "                                      IV-2SLS Estimation Summary                                     \n",
      "=====================================================================================================\n",
      "Dep. Variable:     Opioid Overdose Death Rate (Age-Adjusted)   R-squared:                      0.2396\n",
      "Estimator:                                           IV-2SLS   Adj. R-squared:                 0.1948\n",
      "No. Observations:                                         73   F-statistic:                    106.86\n",
      "Date:                                       Fri, Sep 13 2024   P-value (F-stat)                0.0000\n",
      "Time:                                               12:57:46   Distribution:                  chi2(4)\n",
      "Cov. Estimator:                                       robust                                         \n",
      "                                                                                                     \n",
      "                                  Parameter Estimates                                  \n",
      "=======================================================================================\n",
      "                     Parameter  Std. Err.     T-stat    P-value    Lower CI    Upper CI\n",
      "---------------------------------------------------------------------------------------\n",
      "const                   5.8485     0.3967     14.744     0.0000      5.0710      6.6260\n",
      "np                      0.9540     0.5463     1.7461     0.0808     -0.1169      2.0248\n",
      "pa                     -0.2877     0.5480    -0.5250     0.5996     -1.3619      0.7864\n",
      "np_no_md                2.8272     0.4564     6.1949     0.0000      1.9327      3.7217\n",
      "hydrocodone_per_cap    -0.0048     0.0134    -0.3567     0.7213     -0.0310      0.0214\n",
      "=======================================================================================\n",
      "\n",
      "Endogenous: hydrocodone_per_cap\n",
      "Instruments: hydrocodone_per_cap\n",
      "Robust Covariance (Heteroskedastic)\n",
      "Debiased: False\n"
     ]
    }
   ],
   "source": [
    "dependent = df['Opioid Overdose Death Rate (Age-Adjusted)']\n",
    "exog_vars=['np', 'pa', 'np_no_md']\n",
    "exog = sm.tools.tools.add_constant(df[exog_vars])\n",
    "endog = df['hydrocodone_per_cap']\n",
    "instruments = df['hydrocodone_per_cap']\n",
    "# fixed effects model\n",
    "model_iv = iv2sls(dependent, exog, endog, instruments=instruments) \n",
    "iv_res = model_iv.fit() \n",
    "print(iv_res)"
   ]
  },
  {
   "cell_type": "code",
   "execution_count": 19,
   "id": "441f309d",
   "metadata": {},
   "outputs": [
    {
     "name": "stdout",
     "output_type": "stream",
     "text": [
      "                                      IV-2SLS Estimation Summary                                     \n",
      "=====================================================================================================\n",
      "Dep. Variable:     Opioid Overdose Death Rate (Age-Adjusted)   R-squared:                      0.2388\n",
      "Estimator:                                           IV-2SLS   Adj. R-squared:                 0.1940\n",
      "No. Observations:                                         73   F-statistic:                    107.08\n",
      "Date:                                       Fri, Sep 13 2024   P-value (F-stat)                0.0000\n",
      "Time:                                               12:57:46   Distribution:                  chi2(4)\n",
      "Cov. Estimator:                                       robust                                         \n",
      "                                                                                                     \n",
      "                                 Parameter Estimates                                 \n",
      "=====================================================================================\n",
      "                   Parameter  Std. Err.     T-stat    P-value    Lower CI    Upper CI\n",
      "-------------------------------------------------------------------------------------\n",
      "const                 5.7920     0.5000     11.584     0.0000      4.8120      6.7719\n",
      "np                    0.9087     0.6149     1.4777     0.1395     -0.2965      2.1139\n",
      "pa                   -0.2312     0.6411    -0.3606     0.7184     -1.4877      1.0254\n",
      "np_no_md              2.8618     0.6862     4.1703     0.0000      1.5168      4.2068\n",
      "oxycodone_per_cap    -0.0032     0.0199    -0.1589     0.8738     -0.0422      0.0359\n",
      "=====================================================================================\n",
      "\n",
      "Endogenous: oxycodone_per_cap\n",
      "Instruments: oxycodone_per_cap\n",
      "Robust Covariance (Heteroskedastic)\n",
      "Debiased: False\n"
     ]
    }
   ],
   "source": [
    "dependent = df['Opioid Overdose Death Rate (Age-Adjusted)']\n",
    "exog_vars=['np', 'pa', 'np_no_md']\n",
    "exog = sm.tools.tools.add_constant(df[exog_vars])\n",
    "endog = df['oxycodone_per_cap']\n",
    "instruments = df['oxycodone_per_cap']\n",
    "# fixed effects model\n",
    "model_iv = iv2sls(dependent, exog, endog, instruments=instruments) \n",
    "iv_res = model_iv.fit() \n",
    "print(iv_res)"
   ]
  },
  {
   "cell_type": "code",
   "execution_count": 20,
   "id": "3611fde6",
   "metadata": {},
   "outputs": [
    {
     "name": "stdout",
     "output_type": "stream",
     "text": [
      "                                      IV-2SLS Estimation Summary                                     \n",
      "=====================================================================================================\n",
      "Dep. Variable:     Opioid Overdose Death Rate (Age-Adjusted)   R-squared:                      0.2097\n",
      "Estimator:                                           IV-2SLS   Adj. R-squared:                 0.1872\n",
      "No. Observations:                                         73   F-statistic:                    85.560\n",
      "Date:                                       Fri, Sep 13 2024   P-value (F-stat)                0.0000\n",
      "Time:                                               12:57:46   Distribution:                  chi2(2)\n",
      "Cov. Estimator:                                       robust                                         \n",
      "                                                                                                     \n",
      "                              Parameter Estimates                               \n",
      "================================================================================\n",
      "              Parameter  Std. Err.     T-stat    P-value    Lower CI    Upper CI\n",
      "--------------------------------------------------------------------------------\n",
      "const            6.1100     0.4208     14.520     0.0000      5.2853      6.9348\n",
      "np_no_md         3.0484     0.5727     5.3230     0.0000      1.9260      4.1709\n",
      "both_per_cap     0.0004     0.0107     0.0398     0.9683     -0.0206      0.0214\n",
      "================================================================================\n",
      "\n",
      "Endogenous: both_per_cap\n",
      "Instruments: both_per_cap\n",
      "Robust Covariance (Heteroskedastic)\n",
      "Debiased: False\n"
     ]
    }
   ],
   "source": [
    "dependent = df['Opioid Overdose Death Rate (Age-Adjusted)']\n",
    "exog_vars=['np_no_md']\n",
    "exog = sm.tools.tools.add_constant(df[exog_vars])\n",
    "endog = df['both_per_cap']\n",
    "instruments = df['both_per_cap']\n",
    "# fixed effects model\n",
    "model_iv = iv2sls(dependent, exog, endog, instruments=instruments) \n",
    "iv_res = model_iv.fit() \n",
    "print(iv_res)"
   ]
  },
  {
   "cell_type": "markdown",
   "id": "1e698dc4",
   "metadata": {},
   "source": [
    "## All States Analysis\n",
    "\n",
    "### We are not able to say much about the national data."
   ]
  },
  {
   "cell_type": "markdown",
   "id": "b7727619",
   "metadata": {},
   "source": [
    "## First Stage\n",
    "We have a weak first stage"
   ]
  },
  {
   "cell_type": "code",
   "execution_count": 21,
   "id": "e1fc659d",
   "metadata": {
    "scrolled": true
   },
   "outputs": [
    {
     "name": "stdout",
     "output_type": "stream",
     "text": [
      "                          PanelOLS Estimation Summary                           \n",
      "================================================================================\n",
      "Dep. Variable:           both_per_cap   R-squared:                        0.0246\n",
      "Estimator:                   PanelOLS   R-squared (Between):             -0.2696\n",
      "No. Observations:                 244   R-squared (Within):               0.0246\n",
      "Date:                Fri, Sep 13 2024   R-squared (Overall):             -0.2182\n",
      "Time:                        12:57:46   Log-likelihood                   -1068.5\n",
      "Cov. Estimator:            Unadjusted                                           \n",
      "                                        F-statistic:                      1.6563\n",
      "Entities:                          44   P-value                           0.1778\n",
      "Avg Obs:                       5.5455   Distribution:                   F(3,197)\n",
      "Min Obs:                       1.0000                                           \n",
      "Max Obs:                       6.0000   F-statistic (robust):             1.6563\n",
      "                                        P-value                           0.1778\n",
      "Time periods:                       6   Distribution:                   F(3,197)\n",
      "Avg Obs:                       40.667                                           \n",
      "Min Obs:                       40.000                                           \n",
      "Max Obs:                       41.000                                           \n",
      "                                                                                \n",
      "                             Parameter Estimates                              \n",
      "==============================================================================\n",
      "            Parameter  Std. Err.     T-stat    P-value    Lower CI    Upper CI\n",
      "------------------------------------------------------------------------------\n",
      "const          58.774     8.0181     7.3301     0.0000      42.962      74.586\n",
      "pa             9.6178     9.9825     0.9635     0.3365     -10.068      29.304\n",
      "np             10.578     10.153     1.0418     0.2988     -9.4448      30.601\n",
      "np_no_md       20.190     13.588     1.4858     0.1389     -6.6072      46.987\n",
      "==============================================================================\n",
      "\n",
      "F-test for Poolability: 29.882\n",
      "P-value: 0.0000\n",
      "Distribution: F(43,197)\n",
      "\n",
      "Included effects: Entity\n"
     ]
    }
   ],
   "source": [
    "exog_vars=['pa', 'np', 'np_no_md']\n",
    "exog = sm.tools.tools.add_constant(panel[exog_vars])\n",
    "endog = panel['both_per_cap']\n",
    "# fixed effects model\n",
    "model_fe = PanelOLS(endog, exog, entity_effects = True) \n",
    "fe_res = model_fe.fit() \n",
    "print(fe_res)"
   ]
  },
  {
   "cell_type": "markdown",
   "id": "3ccfa59e",
   "metadata": {},
   "source": [
    "## Second Stage"
   ]
  },
  {
   "cell_type": "code",
   "execution_count": 23,
   "id": "93694b52",
   "metadata": {},
   "outputs": [
    {
     "name": "stdout",
     "output_type": "stream",
     "text": [
      "                                      IV-2SLS Estimation Summary                                     \n",
      "=====================================================================================================\n",
      "Dep. Variable:     Opioid Overdose Death Rate (Age-Adjusted)   R-squared:                      0.1321\n",
      "Estimator:                                           IV-2SLS   Adj. R-squared:                 0.1168\n",
      "No. Observations:                                        232   F-statistic:                    49.858\n",
      "Date:                                       Fri, Sep 13 2024   P-value (F-stat)                0.0000\n",
      "Time:                                               12:57:46   Distribution:                  chi2(4)\n",
      "Cov. Estimator:                                       robust                                         \n",
      "                                                                                                     \n",
      "                              Parameter Estimates                               \n",
      "================================================================================\n",
      "              Parameter  Std. Err.     T-stat    P-value    Lower CI    Upper CI\n",
      "--------------------------------------------------------------------------------\n",
      "const            5.2581     0.5344     9.8385     0.0000      4.2106      6.3056\n",
      "np              -0.4812     0.6319    -0.7615     0.4463     -1.7196      0.7572\n",
      "pa               0.8735     0.5838     1.4964     0.1346     -0.2706      2.0176\n",
      "np_no_md         2.5675     0.4586     5.5980     0.0000      1.6685      3.4664\n",
      "both_per_cap     0.0215     0.0068     3.1505     0.0016      0.0081      0.0349\n",
      "================================================================================\n",
      "\n",
      "Endogenous: both_per_cap\n",
      "Instruments: both_per_cap\n",
      "Robust Covariance (Heteroskedastic)\n",
      "Debiased: False\n"
     ]
    },
    {
     "name": "stderr",
     "output_type": "stream",
     "text": [
      "C:\\Users\\arsha\\Anaconda3\\lib\\site-packages\\linearmodels\\shared\\exceptions.py:37: MissingValueWarning: \n",
      "Inputs contain missing values. Dropping rows with missing observations.\n",
      "  warnings.warn(missing_value_warning_msg, MissingValueWarning)\n"
     ]
    }
   ],
   "source": [
    "dependent = panel['Opioid Overdose Death Rate (Age-Adjusted)']\n",
    "exog_vars=['np', 'pa', 'np_no_md']\n",
    "exog = sm.tools.tools.add_constant(panel[exog_vars])\n",
    "endog = panel['both_per_cap']\n",
    "instruments = panel['both_per_cap']\n",
    "# fixed effects model\n",
    "model_iv = iv2sls(dependent, exog, endog, instruments=instruments) \n",
    "iv_res = model_iv.fit() \n",
    "print(iv_res)"
   ]
  }
 ],
 "metadata": {
  "kernelspec": {
   "display_name": "Python 3 (ipykernel)",
   "language": "python",
   "name": "python3"
  },
  "language_info": {
   "codemirror_mode": {
    "name": "ipython",
    "version": 3
   },
   "file_extension": ".py",
   "mimetype": "text/x-python",
   "name": "python",
   "nbconvert_exporter": "python",
   "pygments_lexer": "ipython3",
   "version": "3.7.16"
  }
 },
 "nbformat": 4,
 "nbformat_minor": 5
}
