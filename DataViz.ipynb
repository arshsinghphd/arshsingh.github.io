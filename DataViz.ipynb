{
 "cells": [
  {
   "cell_type": "markdown",
   "id": "e4eda0cd",
   "metadata": {},
   "source": [
    "(c) Arsh Singh, Dec 2022\n",
    "\n",
    "This file is associated with my research project regarding the prescriptive power of non-physician and  opioid prescriptions. This shows (almost) all the works from raw data to final data, data analysis, and figures. I do not show the works for census data formatting"
   ]
  },
  {
   "cell_type": "markdown",
   "id": "ec4b990d",
   "metadata": {},
   "source": [
    "### What am I doing?\n",
    "In the USA, many states started allowing non-physicians such as Nurse Practitioners and Physician's Assistants to prescribe opioids. In this project, I start with the prior that allowing non-physicians to prescribe schedule II drugs combined with increased freedom for practice such as not requiring physicians oversight, will lead to an increase in prescription opioids. (I see exactly the opposite of that in the data, at least in the beginning. More later.)\n",
    "\n",
    "### How am I doing it?\n",
    "Regression Discontinuity. I employ the variation in the timing of various states passing laws that increase the practicing and prescription powers of non-physicians, for a statistical technique used to estimate causal effects, called regression discontinuity.\n",
    "\n",
    "### Why should anyone care about what I am doing?\n",
    "Regression discontinuities are rare. They can be inferred to be causal.\n",
    "\n",
    "In this project I estimate/measure exactly how much the changing of law contributed to the increase in prescription of opioids.\n",
    "\n",
    "Passing of Law ---> increased opioids\n",
    "\n",
    "This is called the first stage. Once I have the causal first stage I can use it to estimate the causal effects of opioids to health.\n",
    "\n",
    "Increased opioids ---> health effects\n",
    "\n",
    "One can ask the question, why do we need to worry about causality? We know how many pills were prescribed and where they went. The answer is that studying the effects of pills in demographics is not so easy. We do not know if all the pills were taken by the persons who they were prescribed to. If they were taken by anyone. Since the pills are expensive, limited by prescription, and are very addictive, there may be secondary effects such as may come from taking street opioids such as fentanyls.\n",
    "\n",
    "Having a dependable causal first-stage can let us extract the causal effect of marginal effect of increase in pill to overall health effects."
   ]
  },
  {
   "cell_type": "markdown",
   "id": "df7cf1c0",
   "metadata": {},
   "source": [
    "### DATA SOURCES\n",
    "\n",
    "#### Opioids Data: Washington Post ARCOS dataset\n",
    "I use the raw arcos dataset cleaned and hosted by washington post. \n",
    "\n",
    "URL: https://wpinvestigative.github.io/arcos/#download-the-raw-data\n",
    "\n",
    "This data follows each painkiller pill in the years 2006-2012 across all states in the USA. As expected, it is a massive dataset of 17GB (or 17 million kB). \n",
    "\n",
    "I could use the arcos API provided by wapo to perform some tasks such as collapsing the data to desired levels, but in my experience their server was always too busy to even perform simple tasks. So I am using pyspark to be able to manipulate the BigData using my limited RAM.\n",
    "\n",
    "#### Population Data: US Census\n",
    "State and country level intercestal annual population estimates from US Census.\n",
    "\n",
    "URL: https://www2.census.gov/programs-surveys/popest/datasets/2000-2010/intercensal/state/st-est00int-alldata.csv\n",
    "\n",
    "#### Prescriptive Power of Non-Physicians\n",
    "Gadbois, Emily A., et al. \"Trends in state regulation of nurse practitioners and physician assistants, 2001 to 2010.\" Medical Care Research and Review 72.2 (2015): 200-219. Accessed on 12-24-2022."
   ]
  },
  {
   "cell_type": "code",
   "execution_count": 1,
   "id": "3d1c2910",
   "metadata": {},
   "outputs": [],
   "source": [
    "import pandas as pd\n",
    "from pyspark.sql import SparkSession\n",
    "import matplotlib.pyplot as plt"
   ]
  },
  {
   "cell_type": "code",
   "execution_count": 2,
   "id": "9cf2d84b",
   "metadata": {},
   "outputs": [],
   "source": [
    "folder='D:/arcos_all_washpost/'"
   ]
  },
  {
   "cell_type": "raw",
   "id": "5c36d5da",
   "metadata": {},
   "source": [
    "# create a SparkSession \n",
    "sc = SparkSession.builder.master(\"local\").appName(\"Test\").getOrCreate()"
   ]
  },
  {
   "cell_type": "raw",
   "id": "645a3c4f",
   "metadata": {},
   "source": [
    "# make a pyspark DataFrame using raw dataset which is 17 GB\n",
    "file='arcos_all_washpost.tsv'\n",
    "path=folder+file\n",
    "raw_data = sc.read.options(delimiter=\"\\t\",header=True).csv(path)"
   ]
  },
  {
   "cell_type": "raw",
   "id": "9ed7bad3",
   "metadata": {},
   "source": [
    "raw_data.createOrReplaceTempView(\"fordate\")\n",
    "# Define my query\n",
    "query=\"SELECT REPORTER_STATE as STATE,INT(SUBSTR(TRANSACTION_DATE,-4,4)*12+SUBSTR(TRANSACTION_DATE,1,2)) as months, INT(DOSAGE_UNIT)*FLOAT(dos_str) as QTY, DRUG_NAME from fordate\"\n",
    "my_data= sc.sql(query)\n",
    "#display the content of new dataframe                       \n",
    "#my_data.show(10)"
   ]
  },
  {
   "cell_type": "raw",
   "id": "e677e6a2",
   "metadata": {},
   "source": [
    "from pyspark.sql.functions import concat, col, sum, substring\n",
    "my_data=my_data.select(concat(my_data.STATE,(my_data.months).cast('string')).alias('ID'), 'STATE','months','QTY','DRUG_NAME')\n",
    "#my_data.show(1)\n",
    "#my_data.printSchema()"
   ]
  },
  {
   "cell_type": "code",
   "execution_count": 7,
   "id": "ce74dad1",
   "metadata": {},
   "outputs": [],
   "source": [
    "scdf1=my_data.groupBy('ID').agg(sum('QTY').alias('both'))\n",
    "scdf2=my_data.filter(col('DRUG_NAME') == 'HYDROCODONE').groupBy('ID').agg(sum('QTY').alias(\"hydrocodone\"))\n",
    "scdf3=my_data.filter(col('DRUG_NAME') == 'OXYCODONE').groupBy('ID').agg(sum('QTY').alias(\"oxycodone\"))\n",
    "scdf12=scdf1.join(scdf2,scdf1.ID == scdf2.ID,\"inner\").drop(scdf2.ID)\n",
    "scdf123=scdf12.join(scdf3,scdf12.ID == scdf3.ID,\"inner\").drop(scdf3.ID)\n",
    "scdf123_1=scdf123.withColumn('STATE',substring(scdf123.ID,1,2))\n",
    "df=scdf123_1.toPandas()"
   ]
  },
  {
   "cell_type": "raw",
   "id": "e0596b40",
   "metadata": {},
   "source": [
    "file='arcos_state_mo_type.csv'\n",
    "path=folder+file\n",
    "df.to_csv('D:/arcos_all_washpost/arcos_state_mo_type.csv')"
   ]
  },
  {
   "cell_type": "raw",
   "id": "9b05dfc8",
   "metadata": {},
   "source": [
    "file='arcos_state_mo_type.csv'\n",
    "path=folder+file\n",
    "main = pd.read_csv(path,index=True)"
   ]
  },
  {
   "cell_type": "code",
   "execution_count": 8,
   "id": "2447c152",
   "metadata": {},
   "outputs": [],
   "source": [
    "main=df.copy()"
   ]
  },
  {
   "cell_type": "code",
   "execution_count": 9,
   "id": "9826c3de",
   "metadata": {},
   "outputs": [],
   "source": [
    "# create months, years\n",
    "main['months']=main['ID'].str.slice(start=2,stop=None,step=1).astype(int)\n",
    "main['year']=main['months'].div(12).astype(int)"
   ]
  },
  {
   "cell_type": "code",
   "execution_count": 10,
   "id": "edc8209c",
   "metadata": {},
   "outputs": [
    {
     "data": {
      "text/html": [
       "<div>\n",
       "<style scoped>\n",
       "    .dataframe tbody tr th:only-of-type {\n",
       "        vertical-align: middle;\n",
       "    }\n",
       "\n",
       "    .dataframe tbody tr th {\n",
       "        vertical-align: top;\n",
       "    }\n",
       "\n",
       "    .dataframe thead th {\n",
       "        text-align: right;\n",
       "    }\n",
       "</style>\n",
       "<table border=\"1\" class=\"dataframe\">\n",
       "  <thead>\n",
       "    <tr style=\"text-align: right;\">\n",
       "      <th></th>\n",
       "      <th>ID</th>\n",
       "      <th>STATE</th>\n",
       "      <th>months</th>\n",
       "      <th>year</th>\n",
       "      <th>hydrocodone</th>\n",
       "      <th>oxycodone</th>\n",
       "      <th>both</th>\n",
       "    </tr>\n",
       "  </thead>\n",
       "  <tbody>\n",
       "    <tr>\n",
       "      <th>0</th>\n",
       "      <td>AZ24115</td>\n",
       "      <td>AZ</td>\n",
       "      <td>24115</td>\n",
       "      <td>2009</td>\n",
       "      <td>27877975.0</td>\n",
       "      <td>2.534856e+07</td>\n",
       "      <td>5.322653e+07</td>\n",
       "    </tr>\n",
       "    <tr>\n",
       "      <th>1</th>\n",
       "      <td>CT24074</td>\n",
       "      <td>CT</td>\n",
       "      <td>24074</td>\n",
       "      <td>2006</td>\n",
       "      <td>4063300.0</td>\n",
       "      <td>1.060125e+07</td>\n",
       "      <td>1.466455e+07</td>\n",
       "    </tr>\n",
       "    <tr>\n",
       "      <th>2</th>\n",
       "      <td>CT24108</td>\n",
       "      <td>CT</td>\n",
       "      <td>24108</td>\n",
       "      <td>2009</td>\n",
       "      <td>6483600.0</td>\n",
       "      <td>1.475485e+07</td>\n",
       "      <td>2.123845e+07</td>\n",
       "    </tr>\n",
       "    <tr>\n",
       "      <th>4</th>\n",
       "      <td>MI24079</td>\n",
       "      <td>MI</td>\n",
       "      <td>24079</td>\n",
       "      <td>2006</td>\n",
       "      <td>18638500.0</td>\n",
       "      <td>1.019536e+07</td>\n",
       "      <td>2.883386e+07</td>\n",
       "    </tr>\n",
       "    <tr>\n",
       "      <th>5</th>\n",
       "      <td>MN24086</td>\n",
       "      <td>MN</td>\n",
       "      <td>24086</td>\n",
       "      <td>2007</td>\n",
       "      <td>2919895.0</td>\n",
       "      <td>3.604983e+06</td>\n",
       "      <td>6.524878e+06</td>\n",
       "    </tr>\n",
       "  </tbody>\n",
       "</table>\n",
       "</div>"
      ],
      "text/plain": [
       "        ID STATE  months  year  hydrocodone     oxycodone          both\n",
       "0  AZ24115    AZ   24115  2009   27877975.0  2.534856e+07  5.322653e+07\n",
       "1  CT24074    CT   24074  2006    4063300.0  1.060125e+07  1.466455e+07\n",
       "2  CT24108    CT   24108  2009    6483600.0  1.475485e+07  2.123845e+07\n",
       "4  MI24079    MI   24079  2006   18638500.0  1.019536e+07  2.883386e+07\n",
       "5  MN24086    MN   24086  2007    2919895.0  3.604983e+06  6.524878e+06"
      ]
     },
     "execution_count": 10,
     "metadata": {},
     "output_type": "execute_result"
    }
   ],
   "source": [
    "# filter out 2012, keep 2006-2011\n",
    "main1=main[main['year']<2012]\n",
    "main1 = main1.iloc[:,[1,4,5,6,2,3,0]]\n",
    "main1.head()"
   ]
  },
  {
   "cell_type": "markdown",
   "id": "79a4d5ed",
   "metadata": {},
   "source": [
    "I took data from census and changed it to match the format of the current dataframe in another notebook: UsStatesPop2006to12.ipynb"
   ]
  },
  {
   "cell_type": "code",
   "execution_count": 11,
   "id": "d68c1b17",
   "metadata": {},
   "outputs": [],
   "source": [
    "file='pop.csv'\n",
    "path=folder+file\n",
    "pop=pd.read_csv(path)"
   ]
  },
  {
   "cell_type": "code",
   "execution_count": 12,
   "id": "e83ce865",
   "metadata": {},
   "outputs": [],
   "source": [
    "main2=pd.merge(main1,pop,on=['STATE','year'])\n",
    "main_std=main2.copy()"
   ]
  },
  {
   "cell_type": "markdown",
   "id": "cda483b7",
   "metadata": {},
   "source": [
    "I will use the state population to standardize the opioid amounts"
   ]
  },
  {
   "cell_type": "code",
   "execution_count": 13,
   "id": "e84feae4",
   "metadata": {},
   "outputs": [],
   "source": [
    "# Creating standardized variables by dividing the quantity of drug by state population\n",
    "for v in ['hydrocodone','oxycodone','both']:\n",
    "    var=v+'_per_cap'\n",
    "    main_std[var]=main2[v].astype(int)/main2['pop'].astype(int)\n",
    "main_std\n",
    "panel=main_std.copy(0)"
   ]
  },
  {
   "cell_type": "markdown",
   "id": "a22c449f",
   "metadata": {},
   "source": [
    "I took data about the time of passage of law of allowing NP and PA to prescribe Sch II drugs and made it into dictionaries\n",
    "    "
   ]
  },
  {
   "cell_type": "code",
   "execution_count": 14,
   "id": "a190fa08",
   "metadata": {},
   "outputs": [],
   "source": [
    "file='treatment.csv'\n",
    "path=folder+file\n",
    "treatment=pd.read_csv(path)"
   ]
  },
  {
   "cell_type": "code",
   "execution_count": 15,
   "id": "69d9d138",
   "metadata": {},
   "outputs": [
    {
     "data": {
      "text/html": [
       "<div>\n",
       "<style scoped>\n",
       "    .dataframe tbody tr th:only-of-type {\n",
       "        vertical-align: middle;\n",
       "    }\n",
       "\n",
       "    .dataframe tbody tr th {\n",
       "        vertical-align: top;\n",
       "    }\n",
       "\n",
       "    .dataframe thead th {\n",
       "        text-align: right;\n",
       "    }\n",
       "</style>\n",
       "<table border=\"1\" class=\"dataframe\">\n",
       "  <thead>\n",
       "    <tr style=\"text-align: right;\">\n",
       "      <th></th>\n",
       "      <th>ID</th>\n",
       "      <th>STATE</th>\n",
       "      <th>months</th>\n",
       "      <th>year</th>\n",
       "      <th>hydrocodone</th>\n",
       "      <th>oxycodone</th>\n",
       "      <th>both</th>\n",
       "      <th>pop</th>\n",
       "      <th>hydrocodone_per_cap</th>\n",
       "      <th>oxycodone_per_cap</th>\n",
       "      <th>both_per_cap</th>\n",
       "      <th>np</th>\n",
       "      <th>np_no_md</th>\n",
       "      <th>pa</th>\n",
       "      <th>any</th>\n",
       "    </tr>\n",
       "  </thead>\n",
       "  <tbody>\n",
       "    <tr>\n",
       "      <th>0</th>\n",
       "      <td>AZ24115</td>\n",
       "      <td>AZ</td>\n",
       "      <td>24115</td>\n",
       "      <td>2009</td>\n",
       "      <td>27877975.0</td>\n",
       "      <td>2.534856e+07</td>\n",
       "      <td>5.322653e+07</td>\n",
       "      <td>6343154</td>\n",
       "      <td>4.394971</td>\n",
       "      <td>3.996207</td>\n",
       "      <td>8.391178</td>\n",
       "      <td>1</td>\n",
       "      <td>1</td>\n",
       "      <td>1</td>\n",
       "      <td>1</td>\n",
       "    </tr>\n",
       "    <tr>\n",
       "      <th>1</th>\n",
       "      <td>AZ24110</td>\n",
       "      <td>AZ</td>\n",
       "      <td>24110</td>\n",
       "      <td>2009</td>\n",
       "      <td>24619375.0</td>\n",
       "      <td>2.153884e+07</td>\n",
       "      <td>4.615822e+07</td>\n",
       "      <td>6343154</td>\n",
       "      <td>3.881251</td>\n",
       "      <td>3.395604</td>\n",
       "      <td>7.276855</td>\n",
       "      <td>1</td>\n",
       "      <td>1</td>\n",
       "      <td>1</td>\n",
       "      <td>1</td>\n",
       "    </tr>\n",
       "    <tr>\n",
       "      <th>2</th>\n",
       "      <td>AZ24118</td>\n",
       "      <td>AZ</td>\n",
       "      <td>24118</td>\n",
       "      <td>2009</td>\n",
       "      <td>26808600.0</td>\n",
       "      <td>2.697941e+07</td>\n",
       "      <td>5.378801e+07</td>\n",
       "      <td>6343154</td>\n",
       "      <td>4.226383</td>\n",
       "      <td>4.253311</td>\n",
       "      <td>8.479694</td>\n",
       "      <td>1</td>\n",
       "      <td>1</td>\n",
       "      <td>1</td>\n",
       "      <td>1</td>\n",
       "    </tr>\n",
       "    <tr>\n",
       "      <th>3</th>\n",
       "      <td>AZ24117</td>\n",
       "      <td>AZ</td>\n",
       "      <td>24117</td>\n",
       "      <td>2009</td>\n",
       "      <td>26459075.0</td>\n",
       "      <td>2.562547e+07</td>\n",
       "      <td>5.208455e+07</td>\n",
       "      <td>6343154</td>\n",
       "      <td>4.171281</td>\n",
       "      <td>4.039863</td>\n",
       "      <td>8.211144</td>\n",
       "      <td>1</td>\n",
       "      <td>1</td>\n",
       "      <td>1</td>\n",
       "      <td>1</td>\n",
       "    </tr>\n",
       "    <tr>\n",
       "      <th>4</th>\n",
       "      <td>AZ24116</td>\n",
       "      <td>AZ</td>\n",
       "      <td>24116</td>\n",
       "      <td>2009</td>\n",
       "      <td>25195600.0</td>\n",
       "      <td>2.387104e+07</td>\n",
       "      <td>4.906664e+07</td>\n",
       "      <td>6343154</td>\n",
       "      <td>3.972093</td>\n",
       "      <td>3.763276</td>\n",
       "      <td>7.735369</td>\n",
       "      <td>1</td>\n",
       "      <td>1</td>\n",
       "      <td>1</td>\n",
       "      <td>1</td>\n",
       "    </tr>\n",
       "  </tbody>\n",
       "</table>\n",
       "</div>"
      ],
      "text/plain": [
       "        ID STATE  months  year  hydrocodone     oxycodone          both  \\\n",
       "0  AZ24115    AZ   24115  2009   27877975.0  2.534856e+07  5.322653e+07   \n",
       "1  AZ24110    AZ   24110  2009   24619375.0  2.153884e+07  4.615822e+07   \n",
       "2  AZ24118    AZ   24118  2009   26808600.0  2.697941e+07  5.378801e+07   \n",
       "3  AZ24117    AZ   24117  2009   26459075.0  2.562547e+07  5.208455e+07   \n",
       "4  AZ24116    AZ   24116  2009   25195600.0  2.387104e+07  4.906664e+07   \n",
       "\n",
       "       pop  hydrocodone_per_cap  oxycodone_per_cap  both_per_cap  np  \\\n",
       "0  6343154             4.394971           3.996207      8.391178   1   \n",
       "1  6343154             3.881251           3.395604      7.276855   1   \n",
       "2  6343154             4.226383           4.253311      8.479694   1   \n",
       "3  6343154             4.171281           4.039863      8.211144   1   \n",
       "4  6343154             3.972093           3.763276      7.735369   1   \n",
       "\n",
       "   np_no_md  pa  any  \n",
       "0         1   1    1  \n",
       "1         1   1    1  \n",
       "2         1   1    1  \n",
       "3         1   1    1  \n",
       "4         1   1    1  "
      ]
     },
     "execution_count": 15,
     "metadata": {},
     "output_type": "execute_result"
    }
   ],
   "source": [
    "main_std_tr=pd.merge(main_std,treatment, on=['STATE','year'])\n",
    "main_std_tr.head()"
   ]
  },
  {
   "cell_type": "code",
   "execution_count": 16,
   "id": "72dd6b2c",
   "metadata": {},
   "outputs": [
    {
     "data": {
      "text/html": [
       "<div>\n",
       "<style scoped>\n",
       "    .dataframe tbody tr th:only-of-type {\n",
       "        vertical-align: middle;\n",
       "    }\n",
       "\n",
       "    .dataframe tbody tr th {\n",
       "        vertical-align: top;\n",
       "    }\n",
       "\n",
       "    .dataframe thead th {\n",
       "        text-align: right;\n",
       "    }\n",
       "</style>\n",
       "<table border=\"1\" class=\"dataframe\">\n",
       "  <thead>\n",
       "    <tr style=\"text-align: right;\">\n",
       "      <th></th>\n",
       "      <th>STATE</th>\n",
       "      <th>np_months</th>\n",
       "    </tr>\n",
       "  </thead>\n",
       "  <tbody>\n",
       "    <tr>\n",
       "      <th>0</th>\n",
       "      <td>LA</td>\n",
       "      <td>24084</td>\n",
       "    </tr>\n",
       "    <tr>\n",
       "      <th>1</th>\n",
       "      <td>KY</td>\n",
       "      <td>24096</td>\n",
       "    </tr>\n",
       "    <tr>\n",
       "      <th>2</th>\n",
       "      <td>VA</td>\n",
       "      <td>24096</td>\n",
       "    </tr>\n",
       "    <tr>\n",
       "      <th>3</th>\n",
       "      <td>HI</td>\n",
       "      <td>24120</td>\n",
       "    </tr>\n",
       "  </tbody>\n",
       "</table>\n",
       "</div>"
      ],
      "text/plain": [
       "  STATE  np_months\n",
       "0    LA      24084\n",
       "1    KY      24096\n",
       "2    VA      24096\n",
       "3    HI      24120"
      ]
     },
     "execution_count": 16,
     "metadata": {},
     "output_type": "execute_result"
    }
   ],
   "source": [
    "# year of passing of law\n",
    "np_dict={'STATE':['LA','KY','VA','HI'],'np_year':[2006,2007,2007,2009]}\n",
    "np_df=pd.DataFrame.from_dict(np_dict)\n",
    "np_df['np_months']=np_df['np_year']*12+12 \n",
    "            # +12 assuming law gets enforced beginning of next year\n",
    "np_df=np_df.drop(columns=['np_year'])\n",
    "np_df"
   ]
  },
  {
   "cell_type": "code",
   "execution_count": 17,
   "id": "b243586a",
   "metadata": {},
   "outputs": [
    {
     "data": {
      "text/html": [
       "<div>\n",
       "<style scoped>\n",
       "    .dataframe tbody tr th:only-of-type {\n",
       "        vertical-align: middle;\n",
       "    }\n",
       "\n",
       "    .dataframe tbody tr th {\n",
       "        vertical-align: top;\n",
       "    }\n",
       "\n",
       "    .dataframe thead th {\n",
       "        text-align: right;\n",
       "    }\n",
       "</style>\n",
       "<table border=\"1\" class=\"dataframe\">\n",
       "  <thead>\n",
       "    <tr style=\"text-align: right;\">\n",
       "      <th></th>\n",
       "      <th>STATE</th>\n",
       "      <th>np_no_md_months</th>\n",
       "    </tr>\n",
       "  </thead>\n",
       "  <tbody>\n",
       "    <tr>\n",
       "      <th>0</th>\n",
       "      <td>AZ</td>\n",
       "      <td>24084</td>\n",
       "    </tr>\n",
       "    <tr>\n",
       "      <th>1</th>\n",
       "      <td>CO</td>\n",
       "      <td>24132</td>\n",
       "    </tr>\n",
       "    <tr>\n",
       "      <th>2</th>\n",
       "      <td>HI</td>\n",
       "      <td>24072</td>\n",
       "    </tr>\n",
       "    <tr>\n",
       "      <th>3</th>\n",
       "      <td>ID</td>\n",
       "      <td>24072</td>\n",
       "    </tr>\n",
       "    <tr>\n",
       "      <th>4</th>\n",
       "      <td>MI</td>\n",
       "      <td>24072</td>\n",
       "    </tr>\n",
       "    <tr>\n",
       "      <th>5</th>\n",
       "      <td>RI</td>\n",
       "      <td>24120</td>\n",
       "    </tr>\n",
       "    <tr>\n",
       "      <th>6</th>\n",
       "      <td>WA</td>\n",
       "      <td>24084</td>\n",
       "    </tr>\n",
       "    <tr>\n",
       "      <th>7</th>\n",
       "      <td>WY</td>\n",
       "      <td>24084</td>\n",
       "    </tr>\n",
       "    <tr>\n",
       "      <th>8</th>\n",
       "      <td>CA</td>\n",
       "      <td>24096</td>\n",
       "    </tr>\n",
       "    <tr>\n",
       "      <th>9</th>\n",
       "      <td>SC</td>\n",
       "      <td>24084</td>\n",
       "    </tr>\n",
       "  </tbody>\n",
       "</table>\n",
       "</div>"
      ],
      "text/plain": [
       "  STATE  np_no_md_months\n",
       "0    AZ            24084\n",
       "1    CO            24132\n",
       "2    HI            24072\n",
       "3    ID            24072\n",
       "4    MI            24072\n",
       "5    RI            24120\n",
       "6    WA            24084\n",
       "7    WY            24084\n",
       "8    CA            24096\n",
       "9    SC            24084"
      ]
     },
     "execution_count": 17,
     "metadata": {},
     "output_type": "execute_result"
    }
   ],
   "source": [
    "np_no_md_dict={'STATE':['AZ','CO','HI','ID','MI','RI','WA','WY','CA','SC'],\n",
    "              'year':[2006,2010,2005,2005,2005,2009,2006,2006,2007,2006]}\n",
    "np_no_md_df=pd.DataFrame.from_dict(np_no_md_dict)\n",
    "np_no_md_df['np_no_md_months']=np_no_md_df['year']*12+12 \n",
    "            # +12 assuming law gets enforced beginning of next year\n",
    "np_no_md_df=np_no_md_df.drop(columns=['year'])\n",
    "np_no_md_df"
   ]
  },
  {
   "cell_type": "code",
   "execution_count": 18,
   "id": "0d35bff6",
   "metadata": {},
   "outputs": [
    {
     "data": {
      "text/html": [
       "<div>\n",
       "<style scoped>\n",
       "    .dataframe tbody tr th:only-of-type {\n",
       "        vertical-align: middle;\n",
       "    }\n",
       "\n",
       "    .dataframe tbody tr th {\n",
       "        vertical-align: top;\n",
       "    }\n",
       "\n",
       "    .dataframe thead th {\n",
       "        text-align: right;\n",
       "    }\n",
       "</style>\n",
       "<table border=\"1\" class=\"dataframe\">\n",
       "  <thead>\n",
       "    <tr style=\"text-align: right;\">\n",
       "      <th></th>\n",
       "      <th>STATE</th>\n",
       "      <th>pa_months</th>\n",
       "    </tr>\n",
       "  </thead>\n",
       "  <tbody>\n",
       "    <tr>\n",
       "      <th>0</th>\n",
       "      <td>PA</td>\n",
       "      <td>24096</td>\n",
       "    </tr>\n",
       "    <tr>\n",
       "      <th>1</th>\n",
       "      <td>VA</td>\n",
       "      <td>24096</td>\n",
       "    </tr>\n",
       "    <tr>\n",
       "      <th>2</th>\n",
       "      <td>DC</td>\n",
       "      <td>24096</td>\n",
       "    </tr>\n",
       "    <tr>\n",
       "      <th>3</th>\n",
       "      <td>NY</td>\n",
       "      <td>24108</td>\n",
       "    </tr>\n",
       "    <tr>\n",
       "      <th>4</th>\n",
       "      <td>IL</td>\n",
       "      <td>24132</td>\n",
       "    </tr>\n",
       "  </tbody>\n",
       "</table>\n",
       "</div>"
      ],
      "text/plain": [
       "  STATE  pa_months\n",
       "0    PA      24096\n",
       "1    VA      24096\n",
       "2    DC      24096\n",
       "3    NY      24108\n",
       "4    IL      24132"
      ]
     },
     "execution_count": 18,
     "metadata": {},
     "output_type": "execute_result"
    }
   ],
   "source": [
    "pa_dict={'STATE':['PA','VA','DC','NY','IL'],\n",
    "         'year':[2007,2007,2007,2008,2010]}\n",
    "pa_df=pd.DataFrame.from_dict(pa_dict)\n",
    "pa_df['pa_months']=pa_df['year']*12+12\n",
    "        # +12 assuming law gets enforced beginning of next year\n",
    "pa_df=pa_df.drop(columns=['year'])   \n",
    "pa_df"
   ]
  },
  {
   "cell_type": "code",
   "execution_count": 19,
   "id": "149c62c2",
   "metadata": {},
   "outputs": [],
   "source": [
    "panel1=pd.merge(main_std_tr,np_df,on='STATE',how='left')\n",
    "panel2=pd.merge(panel1,np_no_md_df,on='STATE',how='left')\n",
    "panel3=pd.merge(panel2,pa_df,on='STATE',how='left')\n",
    "panel3['months_ref_np']=panel3['months']-panel3['np_months']\n",
    "panel3['months_ref_np_no_md']=panel3['months']-panel3['np_no_md_months']\n",
    "panel3['months_ref_pa']=panel3['months']-panel3['pa_months']"
   ]
  },
  {
   "cell_type": "code",
   "execution_count": 20,
   "id": "f93c3467",
   "metadata": {},
   "outputs": [],
   "source": [
    "# Excluding Vermont due to it's unusually low per capita opioid prescription \n",
    "panel_temp=panel3[panel3['STATE']!='VA'] "
   ]
  },
  {
   "cell_type": "code",
   "execution_count": 21,
   "id": "67250ece",
   "metadata": {},
   "outputs": [
    {
     "name": "stderr",
     "output_type": "stream",
     "text": [
      "C:\\Users\\arsha\\Anaconda3\\lib\\site-packages\\ipykernel_launcher.py:4: UserWarning: Boolean Series key will be reindexed to match DataFrame index.\n",
      "  after removing the cwd from sys.path.\n"
     ]
    }
   ],
   "source": [
    "panel_temp=panel_temp[['STATE','hydrocodone_per_cap','oxycodone_per_cap','both_per_cap','months_ref_np_no_md']].dropna()\n",
    "panel_np_no_md=panel_temp.groupby('months_ref_np_no_md').mean()\n",
    "panel_np_no_md['months_ref_np_no_md']=panel_np_no_md.index\n",
    "panel_np_no_md2=panel_np_no_md[panel_np_no_md['months_ref_np_no_md']<18][panel_np_no_md['months_ref_np_no_md']>-18]\n",
    "#panel_np_no_md2=panel_np_no_md.copy()"
   ]
  },
  {
   "cell_type": "markdown",
   "id": "cb57d74b",
   "metadata": {},
   "source": [
    "### Data Visualization"
   ]
  },
  {
   "cell_type": "code",
   "execution_count": 22,
   "id": "7fadc359",
   "metadata": {},
   "outputs": [
    {
     "data": {
      "text/plain": [
       "Text(0, 0.5, 'Opioids pescribed per capita')"
      ]
     },
     "execution_count": 22,
     "metadata": {},
     "output_type": "execute_result"
    },
    {
     "data": {
      "image/png": "[encoded data removed]",
      "text/plain": [
       "<Figure size 640x480 with 1 Axes>"
      ]
     },
     "metadata": {},
     "output_type": "display_data"
    }
   ],
   "source": [
    "plt.scatter(panel_np_no_md2['months_ref_np_no_md'],panel_np_no_md2['both_per_cap'])\n",
    "plt.axvline(x = 0, color = 'black')\n",
    "plt.xlabel('Months since passage of law')\n",
    "plt.ylabel('Opioids pescribed per capita')"
   ]
  },
  {
   "cell_type": "code",
   "execution_count": 23,
   "id": "05e2bb29",
   "metadata": {},
   "outputs": [
    {
     "data": {
      "text/plain": [
       "<matplotlib.lines.Line2D at 0x268b7f1ff48>"
      ]
     },
     "execution_count": 23,
     "metadata": {},
     "output_type": "execute_result"
    },
    {
     "data": {
      "image/png": "[encoded data removed]",
      "text/plain": [
       "<Figure size 640x480 with 1 Axes>"
      ]
     },
     "metadata": {},
     "output_type": "display_data"
    }
   ],
   "source": [
    "plt.scatter(panel_np_no_md2['months_ref_np_no_md'],panel_np_no_md2['hydrocodone_per_cap'])\n",
    "plt.axvline(x = 0, color = 'black')"
   ]
  },
  {
   "cell_type": "code",
   "execution_count": 24,
   "id": "5848546b",
   "metadata": {},
   "outputs": [
    {
     "data": {
      "text/plain": [
       "<matplotlib.lines.Line2D at 0x268b7fad348>"
      ]
     },
     "execution_count": 24,
     "metadata": {},
     "output_type": "execute_result"
    },
    {
     "data": {
      "image/png": "[encoded data removed]",
      "text/plain": [
       "<Figure size 640x480 with 1 Axes>"
      ]
     },
     "metadata": {},
     "output_type": "display_data"
    }
   ],
   "source": [
    "plt.scatter(panel_np_no_md2['months_ref_np_no_md'],panel_np_no_md2['oxycodone_per_cap'])\n",
    "plt.axvline(x = 0, color = 'black')"
   ]
  }
 ],
 "metadata": {
  "kernelspec": {
   "display_name": "Python 3 (ipykernel)",
   "language": "python",
   "name": "python3"
  },
  "language_info": {
   "codemirror_mode": {
    "name": "ipython",
    "version": 3
   },
   "file_extension": ".py",
   "mimetype": "text/x-python",
   "name": "python",
   "nbconvert_exporter": "python",
   "pygments_lexer": "ipython3",
   "version": "3.7.4"
  }
 },
 "nbformat": 4,
 "nbformat_minor": 5
}
